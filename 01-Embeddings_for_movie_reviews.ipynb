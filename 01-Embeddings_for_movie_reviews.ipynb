{
 "cells": [
  {
   "cell_type": "code",
   "execution_count": 15,
   "metadata": {},
   "outputs": [
    {
     "data": {
      "text/plain": [
       "<module 'utils' from '/home/andryw/Projects/tutorials/embeddings/utils.py'>"
      ]
     },
     "execution_count": 15,
     "metadata": {},
     "output_type": "execute_result"
    }
   ],
   "source": [
    "#https://www.kaggle.com/c/word2vec-nlp-tutorial\n",
    "import pandas as pd\n",
    "from sklearn.feature_extraction.text import CountVectorizer, TfidfVectorizer\n",
    "import numpy as np\n",
    "import xgboost as xgb\n",
    "from sklearn.model_selection import train_test_split\n",
    "from sklearn.ensemble import RandomForestClassifier\n",
    "from sklearn.linear_model import LogisticRegression\n",
    "from sklearn import metrics\n",
    "from nltk.stem.porter import PorterStemmer\n",
    "\n",
    "import utils\n",
    "import importlib\n",
    "importlib.reload(utils)"
   ]
  },
  {
   "cell_type": "code",
   "execution_count": 13,
   "metadata": {},
   "outputs": [],
   "source": [
    "data = pd.read_csv(\"data/labeledTrainData.tsv\", delimiter=\"\\t\", quoting=3)\n",
    "train_data, test_data = train_test_split(data, test_size=0.25)"
   ]
  },
  {
   "cell_type": "code",
   "execution_count": 16,
   "metadata": {},
   "outputs": [
    {
     "name": "stderr",
     "output_type": "stream",
     "text": [
      "/home/andryw/Projects/tutorials/python_env/lib/python3.6/site-packages/ipykernel_launcher.py:2: SettingWithCopyWarning: \n",
      "A value is trying to be set on a copy of a slice from a DataFrame.\n",
      "Try using .loc[row_indexer,col_indexer] = value instead\n",
      "\n",
      "See the caveats in the documentation: http://pandas.pydata.org/pandas-docs/stable/indexing.html#indexing-view-versus-copy\n",
      "  \n",
      "/home/andryw/Projects/tutorials/python_env/lib/python3.6/site-packages/ipykernel_launcher.py:3: SettingWithCopyWarning: \n",
      "A value is trying to be set on a copy of a slice from a DataFrame.\n",
      "Try using .loc[row_indexer,col_indexer] = value instead\n",
      "\n",
      "See the caveats in the documentation: http://pandas.pydata.org/pandas-docs/stable/indexing.html#indexing-view-versus-copy\n",
      "  This is separate from the ipykernel package so we can avoid doing imports until\n"
     ]
    }
   ],
   "source": [
    "# Clean the text\n",
    "train_data['review_cleaned'] = train_data.review.apply(lambda x: utils.normalize_text(x, to_stem=True))\n",
    "test_data['review_cleaned'] = test_data.review.apply(lambda x: utils.normalize_text(x , to_stem=True))"
   ]
  },
  {
   "cell_type": "code",
   "execution_count": 23,
   "metadata": {},
   "outputs": [],
   "source": [
    "# # Get bag of words from the text\n",
    "# count_vectorizer = CountVectorizer(max_features=6000)\n",
    "# train_bow = count_vectorizer.fit_transform(list(train_data['review_cleaned']) + \n",
    "#                                            list(test_data['review_cleaned']))\n",
    "\n",
    "# train_bow = count_vectorizer.transform(train_data['review_cleaned']).toarray()\n",
    "# print(\"dimentions train: {}\".format(train_bow.shape))\n",
    "\n",
    "# test_bow = count_vectorizer.transform(test_data['review_cleaned']).toarray()\n",
    "# print(\"dimentions of test data: {}\".format(test_bow.shape))"
   ]
  },
  {
   "cell_type": "code",
   "execution_count": 50,
   "metadata": {},
   "outputs": [
    {
     "name": "stdout",
     "output_type": "stream",
     "text": [
      "dimentions: (18750, 10000)\n",
      "dimentions of test data: (6250, 10000)\n"
     ]
    }
   ],
   "source": [
    "# Get tfidf from the text\n",
    "vectorizer = TfidfVectorizer(max_features=10000)\n",
    "train_bow = vectorizer.fit_transform(list(train_data['review_cleaned']) + \n",
    "                                           list(test_data['review_cleaned']))\n",
    "train_bow = vectorizer.transform(train_data['review_cleaned']).toarray()\n",
    "print(\"dimentions: {}\".format(train_bow.shape))\n",
    "\n",
    "test_bow = vectorizer.transform(test_data['review_cleaned']).toarray()\n",
    "print(\"dimentions of test data: {}\".format(test_bow.shape))"
   ]
  },
  {
   "cell_type": "code",
   "execution_count": 51,
   "metadata": {},
   "outputs": [],
   "source": [
    "x_train = train_bow\n",
    "y_train = train_data.sentiment\n",
    "\n",
    "x_test = test_bow\n",
    "y_test  = test_data.sentiment"
   ]
  },
  {
   "cell_type": "markdown",
   "metadata": {},
   "source": [
    "## Classifier"
   ]
  },
  {
   "cell_type": "markdown",
   "metadata": {},
   "source": [
    "### XGboost"
   ]
  },
  {
   "cell_type": "code",
   "execution_count": 26,
   "metadata": {},
   "outputs": [],
   "source": [
    "# params = {\"n_jobs\": 3, \"silent\": True, \"n_estimators\": 100, 'objective':'binary:logistic'}\n",
    "# xgboost_classifier = xgb.XGBClassifier(**params)\n",
    "\n",
    "# xgboost_classifier.fit(x_train, y_train, verbose=True, eval_metric='auc',\n",
    "#                       eval_set=[(x_train, y_train), (x_test, y_test)],)\n",
    "\n",
    "# metrics.roc_auc_score(xgboost_classifier.predict(x_test), y_test)"
   ]
  },
  {
   "cell_type": "markdown",
   "metadata": {},
   "source": [
    "### RandomForest"
   ]
  },
  {
   "cell_type": "code",
   "execution_count": 27,
   "metadata": {},
   "outputs": [
    {
     "name": "stderr",
     "output_type": "stream",
     "text": [
      "[Parallel(n_jobs=3)]: Using backend ThreadingBackend with 3 concurrent workers.\n",
      "[Parallel(n_jobs=3)]: Done  44 tasks      | elapsed:   16.9s\n",
      "[Parallel(n_jobs=3)]: Done 100 out of 100 | elapsed:   39.5s finished\n",
      "[Parallel(n_jobs=3)]: Using backend ThreadingBackend with 3 concurrent workers.\n",
      "[Parallel(n_jobs=3)]: Done  44 tasks      | elapsed:    0.1s\n",
      "[Parallel(n_jobs=3)]: Done 100 out of 100 | elapsed:    0.4s finished\n"
     ]
    },
    {
     "data": {
      "text/plain": [
       "0.8392129890990521"
      ]
     },
     "execution_count": 27,
     "metadata": {},
     "output_type": "execute_result"
    }
   ],
   "source": [
    "random_forest = RandomForestClassifier(n_estimators=100, verbose=True, n_jobs=3)\n",
    "random_forest = random_forest.fit(x_train, y_train)\n",
    "metrics.roc_auc_score(random_forest.predict(x_test), y_test)"
   ]
  },
  {
   "cell_type": "markdown",
   "metadata": {},
   "source": [
    "### Logistc"
   ]
  },
  {
   "cell_type": "code",
   "execution_count": 52,
   "metadata": {},
   "outputs": [
    {
     "name": "stderr",
     "output_type": "stream",
     "text": [
      "/home/andryw/Projects/tutorials/python_env/lib/python3.6/site-packages/sklearn/linear_model/logistic.py:433: FutureWarning: Default solver will be changed to 'lbfgs' in 0.22. Specify a solver to silence this warning.\n",
      "  FutureWarning)\n",
      "/home/andryw/Projects/tutorials/python_env/lib/python3.6/site-packages/sklearn/linear_model/logistic.py:1300: UserWarning: 'n_jobs' > 1 does not have any effect when 'solver' is set to 'liblinear'. Got 'n_jobs' = 3.\n",
      "  \" = {}.\".format(effective_n_jobs(self.n_jobs)))\n"
     ]
    },
    {
     "name": "stdout",
     "output_type": "stream",
     "text": [
      "[LibLinear]"
     ]
    },
    {
     "data": {
      "text/plain": [
       "0.8797813686575502"
      ]
     },
     "execution_count": 52,
     "metadata": {},
     "output_type": "execute_result"
    }
   ],
   "source": [
    "logistic_regression = LogisticRegression(verbose=True, n_jobs=3)\n",
    "logistic_regression = logistic_regression.fit(x_train, y_train)\n",
    "metrics.roc_auc_score(logistic_regression.predict(x_test), y_test)"
   ]
  },
  {
   "cell_type": "markdown",
   "metadata": {},
   "source": [
    "## Predict"
   ]
  },
  {
   "cell_type": "code",
   "execution_count": 39,
   "metadata": {},
   "outputs": [],
   "source": [
    "unlabel_data = pd.read_csv(\"data/testData.tsv\", header=0, delimiter=\"\\t\", quoting=3 )\n",
    "unlabel_data['review_cleaned'] = unlabel_data.review.apply(lambda x: utils.normalize_text(x))"
   ]
  },
  {
   "cell_type": "code",
   "execution_count": 20,
   "metadata": {},
   "outputs": [
    {
     "name": "stderr",
     "output_type": "stream",
     "text": [
      "[Parallel(n_jobs=3)]: Using backend ThreadingBackend with 3 concurrent workers.\n",
      "[Parallel(n_jobs=3)]: Done  44 tasks      | elapsed:    0.4s\n",
      "[Parallel(n_jobs=3)]: Done 100 out of 100 | elapsed:    0.9s finished\n"
     ]
    }
   ],
   "source": [
    "utils.save_predict(unlabel_data, \n",
    "                   random_forest.predict(unlabel_data_bow), \n",
    "                   \"random_forest_tfidf.csv\")"
   ]
  },
  {
   "cell_type": "code",
   "execution_count": 21,
   "metadata": {},
   "outputs": [],
   "source": [
    "utils.save_predict(unlabel_data, \n",
    "                   xgboost_classifier.predict(unlabel_data_bow), \n",
    "                   \"xgboost_tfidf.csv\")"
   ]
  },
  {
   "cell_type": "code",
   "execution_count": 53,
   "metadata": {},
   "outputs": [
    {
     "name": "stderr",
     "output_type": "stream",
     "text": [
      "/home/andryw/Projects/tutorials/python_env/lib/python3.6/site-packages/sklearn/linear_model/logistic.py:433: FutureWarning: Default solver will be changed to 'lbfgs' in 0.22. Specify a solver to silence this warning.\n",
      "  FutureWarning)\n",
      "/home/andryw/Projects/tutorials/python_env/lib/python3.6/site-packages/sklearn/linear_model/logistic.py:1300: UserWarning: 'n_jobs' > 1 does not have any effect when 'solver' is set to 'liblinear'. Got 'n_jobs' = 3.\n",
      "  \" = {}.\".format(effective_n_jobs(self.n_jobs)))\n"
     ]
    },
    {
     "name": "stdout",
     "output_type": "stream",
     "text": [
      "[LibLinear]"
     ]
    }
   ],
   "source": [
    "logistic_regression = LogisticRegression(verbose=True, n_jobs=3)\n",
    "logistic_regression = logistic_regression.fit(np.concatenate((x_train, x_test), axis=0), \n",
    "                                              np.concatenate((y_train, y_test), axis=0))\n",
    "\n",
    "unlabel_data_bow = vectorizer.transform(unlabel_data['review_cleaned'])\n",
    "unlabel_data_bow = unlabel_data_bow.toarray()\n",
    "\n",
    "utils.save_predict(unlabel_data, \n",
    "             logistic_regression.predict(unlabel_data_bow), \n",
    "             \"regression_tfidf_stem_10000-features.csv\")"
   ]
  },
  {
   "cell_type": "code",
   "execution_count": null,
   "metadata": {},
   "outputs": [],
   "source": []
  }
 ],
 "metadata": {
  "kernelspec": {
   "display_name": "Python 3",
   "language": "python",
   "name": "python3"
  },
  "language_info": {
   "codemirror_mode": {
    "name": "ipython",
    "version": 3
   },
   "file_extension": ".py",
   "mimetype": "text/x-python",
   "name": "python",
   "nbconvert_exporter": "python",
   "pygments_lexer": "ipython3",
   "version": "3.6.7"
  }
 },
 "nbformat": 4,
 "nbformat_minor": 2
}
