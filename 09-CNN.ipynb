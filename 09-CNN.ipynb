{
 "cells": [
  {
   "cell_type": "code",
   "execution_count": 24,
   "metadata": {},
   "outputs": [],
   "source": [
    "import importlib\n",
    "import pandas as pd\n",
    "import numpy as np\n",
    "import nltk\n",
    "import gensim \n",
    "import logging\n",
    "from sklearn.model_selection import train_test_split\n",
    "from sklearn.ensemble import RandomForestClassifier\n",
    "from sklearn.linear_model import LogisticRegression\n",
    "from sklearn import metrics\n",
    "\n",
    "import warnings\n",
    "warnings.filterwarnings('always')\n",
    "warnings.filterwarnings('ignore')\n",
    "\n",
    "import utils\n",
    "importlib.reload(utils)\n",
    "\n",
    "import keras\n",
    "from keras import preprocessing\n",
    "from keras.models import Sequential\n",
    "from keras.layers import Flatten, Dense, Embedding, Conv1D, MaxPool1D, GlobalMaxPool1D, AveragePooling1D, GlobalAveragePooling1D"
   ]
  },
  {
   "cell_type": "code",
   "execution_count": 25,
   "metadata": {},
   "outputs": [],
   "source": [
    "data = pd.read_csv(\"data/labeledTrainData.tsv\", delimiter=\"\\t\", quoting=3)\n",
    "train_data, test_data = train_test_split(data, test_size=0.25)"
   ]
  },
  {
   "cell_type": "code",
   "execution_count": 26,
   "metadata": {},
   "outputs": [],
   "source": [
    "# Clean the text\n",
    "train_data['review_cleaned'] = train_data.review.apply(lambda x: utils.normalize_text(x))\n",
    "test_data['review_cleaned'] = test_data.review.apply(lambda x: utils.normalize_text(x))\n",
    "\n",
    "unlabel_data = pd.read_csv(\"data/testData.tsv\", header=0, delimiter=\"\\t\", quoting=3 )\n",
    "unlabel_data['review_cleaned'] = unlabel_data.review.apply(lambda x: utils.normalize_text(x))"
   ]
  },
  {
   "cell_type": "code",
   "execution_count": 27,
   "metadata": {},
   "outputs": [],
   "source": [
    "def get_total_words(text_list):\n",
    "    text_set = set()\n",
    "    for text in text_list:\n",
    "        text_set |= set(text.split())\n",
    "    return len(text_set)\n",
    "\n",
    "def get_max_size_of_sentence(text_list):\n",
    "    max_size = 0\n",
    "    for text in text_list:\n",
    "        max_size = max(max_size, len(text))\n",
    "    return max_size"
   ]
  },
  {
   "cell_type": "code",
   "execution_count": 28,
   "metadata": {},
   "outputs": [],
   "source": [
    "## Find the total of unique words\n",
    "total_words = get_total_words(list(train_data['review_cleaned']) + \n",
    "                list(test_data['review_cleaned']) +\n",
    "                list(unlabel_data['review_cleaned']))\n",
    "\n",
    "## Find max size of a setence\n",
    "max_size = get_max_size_of_sentence(list(train_data['review_cleaned']) + \n",
    "                list(test_data['review_cleaned']) +\n",
    "                list(unlabel_data['review_cleaned']))"
   ]
  },
  {
   "cell_type": "code",
   "execution_count": 29,
   "metadata": {},
   "outputs": [],
   "source": [
    "tokenizer = preprocessing.text.Tokenizer(total_words)\n",
    "\n",
    "tokenizer.fit_on_texts(list(train_data['review_cleaned']) + \n",
    "                       list(test_data['review_cleaned']) +\n",
    "                       list(unlabel_data['review_cleaned'])\n",
    "                      )"
   ]
  },
  {
   "cell_type": "code",
   "execution_count": 30,
   "metadata": {},
   "outputs": [],
   "source": [
    "train_one_hot_index = tokenizer.texts_to_sequences(list(train_data['review_cleaned']))\n",
    "train_one_hot_index = preprocessing.sequence.pad_sequences(train_one_hot_index, max_size)\n",
    "\n",
    "test_one_hot_index = tokenizer.texts_to_sequences(list(test_data['review_cleaned']))\n",
    "test_one_hot_index = preprocessing.sequence.pad_sequences(test_one_hot_index, max_size)\n",
    "\n",
    "unlabel_data_one_hot_index = tokenizer.texts_to_sequences(list(unlabel_data['review_cleaned']))\n",
    "unlabel_data_one_hot_index = preprocessing.sequence.pad_sequences(unlabel_data_one_hot_index, max_size)"
   ]
  },
  {
   "cell_type": "code",
   "execution_count": 31,
   "metadata": {},
   "outputs": [],
   "source": [
    "x_train = train_one_hot_index\n",
    "y_train = train_data.sentiment\n",
    "\n",
    "x_test = test_one_hot_index\n",
    "y_test  = test_data.sentiment"
   ]
  },
  {
   "cell_type": "code",
   "execution_count": 45,
   "metadata": {},
   "outputs": [
    {
     "name": "stdout",
     "output_type": "stream",
     "text": [
      "_________________________________________________________________\n",
      "Layer (type)                 Output Shape              Param #   \n",
      "=================================================================\n",
      "embedding_7 (Embedding)      (None, 9434, 100)         10124600  \n",
      "_________________________________________________________________\n",
      "conv1d_13 (Conv1D)           (None, 9429, 32)          19232     \n",
      "_________________________________________________________________\n",
      "max_pooling1d_6 (MaxPooling1 (None, 3143, 32)          0         \n",
      "_________________________________________________________________\n",
      "conv1d_14 (Conv1D)           (None, 3138, 32)          6176      \n",
      "_________________________________________________________________\n",
      "global_max_pooling1d_2 (Glob (None, 32)                0         \n",
      "_________________________________________________________________\n",
      "dense_7 (Dense)              (None, 1)                 33        \n",
      "=================================================================\n",
      "Total params: 10,150,041\n",
      "Trainable params: 10,150,041\n",
      "Non-trainable params: 0\n",
      "_________________________________________________________________\n"
     ]
    }
   ],
   "source": [
    "model = Sequential()\n",
    "model.add(Embedding(total_words, 100, input_length=max_size))\n",
    "\n",
    "model.add(Conv1D(32, 6, activation=\"relu\"))\n",
    "model.add(MaxPool1D(3))\n",
    "model.add(Conv1D(32, 6, activation=\"relu\"))\n",
    "model.add(GlobalMaxPool1D())\n",
    "model.add(Dense(1, activation=\"sigmoid\"))\n",
    "model.summary()"
   ]
  },
  {
   "cell_type": "code",
   "execution_count": 46,
   "metadata": {},
   "outputs": [],
   "source": [
    "model.compile(optimizer=\"rmsprop\", loss='binary_crossentropy', metrics=['acc'])"
   ]
  },
  {
   "cell_type": "code",
   "execution_count": 47,
   "metadata": {},
   "outputs": [
    {
     "name": "stdout",
     "output_type": "stream",
     "text": [
      "Train on 18750 samples, validate on 6250 samples\n",
      "Epoch 1/2\n",
      "18750/18750 [==============================] - 789s 42ms/step - loss: 0.4090 - acc: 0.8013 - val_loss: 0.3084 - val_acc: 0.8762\n",
      "Epoch 2/2\n",
      "18750/18750 [==============================] - 770s 41ms/step - loss: 0.2192 - acc: 0.9134 - val_loss: 0.2913 - val_acc: 0.8834\n"
     ]
    },
    {
     "data": {
      "text/plain": [
       "<keras.callbacks.History at 0x7fcd1c4f6da0>"
      ]
     },
     "execution_count": 47,
     "metadata": {},
     "output_type": "execute_result"
    }
   ],
   "source": [
    "model.fit(x_train, y_train, epochs=2, validation_data=(x_test, y_test))"
   ]
  },
  {
   "cell_type": "markdown",
   "metadata": {},
   "source": [
    "## Predict"
   ]
  },
  {
   "cell_type": "code",
   "execution_count": null,
   "metadata": {},
   "outputs": [],
   "source": [
    "prediction = [x[0] for x in model.predict_classes(unlabel_data_one_hot_index)]\n",
    "utils.save_predict(unlabel_data, \n",
    "                   prediction, \n",
    "                   \"cnn_max-2-epoch.csv\")"
   ]
  },
  {
   "cell_type": "code",
   "execution_count": null,
   "metadata": {},
   "outputs": [],
   "source": []
  }
 ],
 "metadata": {
  "kernelspec": {
   "display_name": "Python 3",
   "language": "python",
   "name": "python3"
  },
  "language_info": {
   "codemirror_mode": {
    "name": "ipython",
    "version": 3
   },
   "file_extension": ".py",
   "mimetype": "text/x-python",
   "name": "python",
   "nbconvert_exporter": "python",
   "pygments_lexer": "ipython3",
   "version": "3.6.7"
  }
 },
 "nbformat": 4,
 "nbformat_minor": 2
}
